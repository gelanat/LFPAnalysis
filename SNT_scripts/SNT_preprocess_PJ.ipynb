{
 "cells": [
  {
   "cell_type": "markdown",
   "id": "4a1019c2",
   "metadata": {},
   "source": [
    "## LFP Preprocessing"
   ]
  },
  {
   "cell_type": "markdown",
   "id": "e5720f96",
   "metadata": {},
   "source": [
    "THIS NOTEBOOK HAS BEEN EDITED FOR THE PREPROESSING OF THE SOCIAL NAVIGATION TASK\n",
    "\n",
    "These are magics that provide certain functionality. Specifically, if you edit functions that are called in this notebook, the functions are reloaded so the changes propagate here without needing to reload the notebook."
   ]
  },
  {
   "cell_type": "code",
   "execution_count": 1,
   "id": "81b857e6",
   "metadata": {
    "tags": []
   },
   "outputs": [],
   "source": [
    "%matplotlib inline\n",
    "%reload_ext autoreload\n",
    "%autoreload 2"
   ]
  },
  {
   "cell_type": "code",
   "execution_count": 2,
   "id": "903fdada",
   "metadata": {
    "tags": []
   },
   "outputs": [],
   "source": [
    "import numpy as np\n",
    "import mne\n",
    "from glob import glob\n",
    "import matplotlib.pyplot as plt\n",
    "from matplotlib.backends.backend_pdf import PdfPages\n",
    "import seaborn as sns\n",
    "from scipy.stats import zscore, linregress, ttest_ind, ttest_rel, ttest_1samp\n",
    "import pandas as pd\n",
    "from mne.preprocessing.bads import _find_outliers\n",
    "import os \n",
    "import joblib\n",
    "import pickle\n",
    "from tqdm import tqdm\n",
    "from IPython.display import clear_output\n",
    "import warnings \n",
    "import scipy\n",
    "\n",
    "# I only want to see warnings once\n",
    "warnings.filterwarnings('ignore')"
   ]
  },
  {
   "cell_type": "markdown",
   "id": "a2c406ed-68a9-44f6-beff-7c1027ca66ef",
   "metadata": {},
   "source": [
    "Note: Different users can have different paths. When sharing code with others, you can define username and use it instead of hardcoding paths."
   ]
  },
  {
   "cell_type": "code",
   "execution_count": 3,
   "id": "d78c3ea4-494b-4bd7-b4a5-d099450e7d89",
   "metadata": {},
   "outputs": [
    {
     "name": "stdout",
     "output_type": "stream",
     "text": [
      "jainp08\n"
     ]
    }
   ],
   "source": [
    "import getpass\n",
    "username = getpass.getuser()\n",
    "print(username)"
   ]
  },
  {
   "cell_type": "markdown",
   "id": "11cd439a",
   "metadata": {},
   "source": [
    "Note: If you have installed the LFPAnalysis package in editable form on Minerva, you must append the local path! This is because Minerva requires that you point your package installs away from the local directory for space reasons, but editable packages have to be installed locally.\n",
    "\n",
    "THE VERSION USED HERE CAN BE FOUND AT https://github.com/gelanat/LFPAnalysis.git"
   ]
  },
  {
   "cell_type": "code",
   "execution_count": 4,
   "id": "10b3889b",
   "metadata": {
    "tags": []
   },
   "outputs": [],
   "source": [
    "import sys\n",
    "sys.path.append(f'/hpc/users/{username}/LFPAnalysis/')\n",
    "sys.path.append(f'/hpc/users/{username}/LFPAnalysis_SNT/')\n",
    "# sys.path.append(f'/hpc/users/{username}/LFPAnalysis/LFPAnalysis_SNT/YBA_ROI_labelled.xlsx')"
   ]
  },
  {
   "cell_type": "code",
   "execution_count": 5,
   "id": "7b549c60",
   "metadata": {
    "tags": []
   },
   "outputs": [],
   "source": [
    "from LFPAnalysis_SNT import lfp_preprocess_utils, sync_utils, analysis_utils, nlx_utils, SNT_utils"
   ]
  },
  {
   "cell_type": "markdown",
   "id": "08ae1c39",
   "metadata": {},
   "source": [
    "## Pre-process (run 1x): "
   ]
  },
  {
   "cell_type": "markdown",
   "id": "82f0c76f",
   "metadata": {},
   "source": [
    "In the pre-processing functions below, we: \n",
    "\n",
    "1. load the raw data (either a .edf file or a folder of .nlx files) into mne objects for use with the mne toolbox: https://mne.tools/stable/index.html.\n",
    "\n",
    "2. load the localized electrode names from the .csv or .xlsx file listing their MNI coordinates into the mne object\n",
    "\n",
    "3. filter and resample as necessary\n",
    "\n",
    "4. re-reference "
   ]
  },
  {
   "cell_type": "code",
   "execution_count": 21,
   "id": "93a72b73",
   "metadata": {
    "tags": []
   },
   "outputs": [],
   "source": [
    "subj_ids = ['MS054']#, 'MS043', 'MS047', 'MS048', 'MS053']\n",
    "subj_sites = ['MSSM']#, 'MSSM','MSSM','MSSM','MSSM']\n",
    "subj_formats = ['edf']#, 'edf','edf','edf','edf']\n",
    "\n",
    "if username == 'tostag01':\n",
    "    base_dir = '/sc/arion/projects/OlfMem/tostag01/SocialNav'\n",
    "\n",
    "if username == 'jainp08':\n",
    "    base_dir = '/sc/arion/projects/OlfMem/jainp08/Social_Navigation/SEEG'"
   ]
  },
  {
   "cell_type": "code",
   "execution_count": 22,
   "id": "df25a541-6be0-4198-ab2f-6fe05f8e1c9f",
   "metadata": {
    "tags": []
   },
   "outputs": [],
   "source": [
    "load_preproc_data = False\n",
    "load_reref_data = False"
   ]
  },
  {
   "cell_type": "code",
   "execution_count": 23,
   "id": "65385637-6484-42c1-842d-5ae7275c3b66",
   "metadata": {
    "tags": []
   },
   "outputs": [
    {
     "name": "stdout",
     "output_type": "stream",
     "text": [
      "Working on subj MS054\n"
     ]
    },
    {
     "ename": "IndexError",
     "evalue": "list index out of range",
     "output_type": "error",
     "traceback": [
      "\u001b[0;31m---------------------------------------------------------------------------\u001b[0m",
      "\u001b[0;31mIndexError\u001b[0m                                Traceback (most recent call last)",
      "Cell \u001b[0;32mIn[23], line 23\u001b[0m\n\u001b[1;32m     21\u001b[0m elec_files \u001b[38;5;241m=\u001b[39m glob(\u001b[38;5;124mf\u001b[39m\u001b[38;5;124m'\u001b[39m\u001b[38;5;132;01m{\u001b[39;00melec_path\u001b[38;5;132;01m}\u001b[39;00m\u001b[38;5;124m/*.csv\u001b[39m\u001b[38;5;124m'\u001b[39m) \u001b[38;5;241m+\u001b[39m glob(\u001b[38;5;124mf\u001b[39m\u001b[38;5;124m'\u001b[39m\u001b[38;5;132;01m{\u001b[39;00melec_path\u001b[38;5;132;01m}\u001b[39;00m\u001b[38;5;124m/*.xlsx\u001b[39m\u001b[38;5;124m'\u001b[39m)\n\u001b[1;32m     22\u001b[0m \u001b[38;5;66;03m# There should really only be one, so grab it with the zero-index \u001b[39;00m\n\u001b[0;32m---> 23\u001b[0m elec_file \u001b[38;5;241m=\u001b[39m \u001b[43melec_files\u001b[49m\u001b[43m[\u001b[49m\u001b[38;5;241;43m0\u001b[39;49m\u001b[43m]\u001b[49m\n\u001b[1;32m     25\u001b[0m \u001b[38;5;66;03m### Pre-process data\u001b[39;00m\n\u001b[1;32m     26\u001b[0m \u001b[38;5;28;01mif\u001b[39;00m load_preproc_data:\n",
      "\u001b[0;31mIndexError\u001b[0m: list index out of range"
     ]
    }
   ],
   "source": [
    "for ix, subj_id in enumerate(subj_ids): \n",
    "    site = subj_sites[ix]\n",
    "    format = subj_formats[ix]\n",
    "    print(f'Working on subj {subj_id}')\n",
    "    \n",
    "    # Set paths\n",
    "    if format == 'nlx':\n",
    "        load_path = f'{base_dir}/data/{subj_id}/raw/neural/nlx/'\n",
    "        save_path = f'{base_dir}/preproc/{subj_id}/LFP/nlx/'\n",
    "    else:   \n",
    "        load_path = f'{base_dir}/data/{subj_id}/raw/neural/'\n",
    "        save_path = f'{base_dir}/preproc/{subj_id}/LFP/'\n",
    "    \n",
    "    elec_path = f'{base_dir}/data/{subj_id}/anat/'\n",
    "    \n",
    "    # Check if path exists for saving, and if not, make it\n",
    "    if not os.path.exists(save_path):\n",
    "        os.makedirs(save_path)\n",
    "\n",
    "    # electrode files could either be csv or excel\n",
    "    elec_files = glob(f'{elec_path}/*.csv') + glob(f'{elec_path}/*.xlsx')\n",
    "    # There should really only be one, so grab it with the zero-index \n",
    "    elec_file = elec_files[0]\n",
    "    \n",
    "    ### Pre-process data\n",
    "    if load_preproc_data:\n",
    "        mne_data = mne.io.Raw(f'{save_path}raw_ieeg.fif', preload=True)\n",
    "        \n",
    "    else:\n",
    "        # Make MNE file\n",
    "        mne_data = lfp_preprocess_utils.make_mne(load_path=load_path, \n",
    "                                                 elec_path=elec_file,\n",
    "                                                 format=format,\n",
    "                                                 return_data=True,\n",
    "                                                 site=site,\n",
    "                                                 check_bad=False) # changed this to not annotate anything as bad \n",
    "\n",
    "        # Save this data so that you don't need this step again:\n",
    "        mne_data.save(f'{save_path}/raw_ieeg.fif', overwrite=True)\n",
    "        \n",
    "    ### Bipolar re-reference data\n",
    "    if load_reref_data:\n",
    "        mne_data_reref = mne.io.read_raw_fif(f'{save_path}/ieeg_bp.fif', preload=True)\n",
    "    else:\n",
    "        # Re-reference neural data\n",
    "        mne_data_reref = lfp_preprocess_utils.ref_mne(mne_data=mne_data, \n",
    "                                                  elec_path=elec_file, \n",
    "                                                  method='bipolar', \n",
    "                                                  site=site)\n",
    "\n",
    "        # Save this data so that you don't need this step again:\n",
    "        mne_data_reref.save(f'{save_path}/ieeg_bp.fif', overwrite=True)\n",
    "\n",
    "    # Should also save out re-referenced elec_file: \n",
    "    elec_data = lfp_preprocess_utils.load_elec(elec_file)\n",
    "    anode_list = [x.split('-')[0] for x in mne_data_reref.ch_names]\n",
    "    elec_df = elec_data[elec_data.label.str.lower().isin(anode_list)]\n",
    "    elec_df['label'] =  elec_df.label.apply(lambda x: [a for a in mne_data_reref.ch_names if str(x).lower() in a.split('-')[0]][0])\n",
    "\n",
    "    # Add region to the data frame \n",
    "\n",
    "    manual_col = [col for col in elec_df.columns if 'manual' in col.lower()][0]\n",
    "    all_regions = [] \n",
    "    for chan_name in elec_df.label.unique():\n",
    "        elec_region = analysis_utils.select_rois_picks(elec_df, chan_name, manual_col=manual_col,\n",
    "                                                       file_path=f'/hpc/users/{username}/LFPAnalysis/LFPAnalysis_SNT/YBA_ROI_labelled.xlsx')\n",
    "        all_regions.append(elec_region) \n",
    "\n",
    "    elec_df['SNT_region'] = all_regions\n",
    "    elec_df['hemisphere'] = elec_df.label.apply(lambda x: x[0])\n",
    "\n",
    "    elec_df.to_csv(f'{save_path}/labels_bp', index=False)\n"
   ]
  },
  {
   "cell_type": "markdown",
   "id": "8ff05564",
   "metadata": {},
   "source": [
    " - mne_data: a Raw mne object, where the data has been loaded, filtered for line noise, parsed for different data types, and resampled if necessary. \n",
    " \n",
    " - mne_data_reref: an mne object containing re-referenced data (either white matter or bipolar)"
   ]
  },
  {
   "cell_type": "markdown",
   "id": "c1b53a3d",
   "metadata": {
    "jp-MarkdownHeadingCollapsed": true,
    "tags": []
   },
   "source": [
    "## NOW look at the data to manually remove channels: "
   ]
  },
  {
   "cell_type": "markdown",
   "id": "03b12839",
   "metadata": {},
   "source": [
    "After bipolar referencing: "
   ]
  },
  {
   "cell_type": "code",
   "execution_count": null,
   "id": "eeca6f46",
   "metadata": {
    "tags": []
   },
   "outputs": [],
   "source": [
    "%matplotlib notebook "
   ]
  },
  {
   "cell_type": "code",
   "execution_count": null,
   "id": "e892ec21",
   "metadata": {
    "tags": []
   },
   "outputs": [],
   "source": [
    "# Scroll up/down and left/right using your keyboard. CLICK on a channel to turn it 'grey' and mark as a 'bad' channel. \n",
    "# If you click a grey channel again it will unmark it. \n",
    "\n",
    "mne_data_reref = mne.io.read_raw_fif(f'{save_path}/ieeg_bp.fif', preload=True)\n",
    "fig = mne_data_reref.plot(start=0, duration=120, n_channels=30, \n",
    "                      scalings=mne_data_reref._data.max()/30\n",
    "                     )"
   ]
  },
  {
   "cell_type": "code",
   "execution_count": null,
   "id": "90817f7c",
   "metadata": {
    "tags": []
   },
   "outputs": [],
   "source": [
    "# ALSO look at the power spectra! \n",
    "# You can click on channels here to identify them, and go back to the viz above to mark them as noise if need be\n",
    "\n",
    "mne_data_reref.compute_psd().plot()"
   ]
  },
  {
   "cell_type": "markdown",
   "id": "1c55bff8-aa4a-4e23-818a-996d64e84a79",
   "metadata": {},
   "source": [
    "NO CHANNELS WERE REMOVED FROM SNT DATASETS"
   ]
  },
  {
   "cell_type": "markdown",
   "id": "dc2e10c5",
   "metadata": {},
   "source": [
    " - mne_dict: a dictionary containing all of your subjects' re-referenced mne data \n",
    " \n",
    " - photodiode_dict: a dictionary containing all of your subjects' photodiode data \n",
    " \n",
    " - elec_dict: a dictionary containing the paths to your subjects' electrode data "
   ]
  },
  {
   "cell_type": "markdown",
   "id": "ac9b7377",
   "metadata": {},
   "source": [
    "## Sync behavioral and neural data"
   ]
  },
  {
   "cell_type": "markdown",
   "id": "6b57df8f",
   "metadata": {},
   "source": [
    "Here, we perform a critical step: computing the time offset between the computer that recorded the neural data and the laptop that featured the experiment. \n",
    "\n",
    "The function here only requires a **subset** of detected sync signals (i.e. photodiode deflections) to be detected to successfully compute this offset. "
   ]
  },
  {
   "cell_type": "markdown",
   "id": "a501a02c-8417-4608-b8ab-dcefe44c53f8",
   "metadata": {},
   "source": [
    "First, you may need to MANUALLY clean the photodiode signal if the recording quality is poor. Load it, plot it, and try to isolate/amplify the pulses. "
   ]
  },
  {
   "cell_type": "code",
   "execution_count": 19,
   "id": "e16c93e9-1c92-4330-9bb1-d355eb9e68b9",
   "metadata": {
    "tags": []
   },
   "outputs": [
    {
     "name": "stdout",
     "output_type": "stream",
     "text": [
      "Working on subj MS053\n",
      "2 responses missed for MS053\n",
      "There are 63 behav syncs detected\n",
      "Opening raw data file /sc/arion/projects/OlfMem/jainp08/Social_Navigation/SEEG/data/MS053/raw/neural/photodiode.fif...\n",
      "Isotrak not found\n",
      "    Range : 0 ... 3254015 =      0.000 ...  3177.749 secs\n",
      "Ready.\n",
      "Reading 0 ... 3254015  =      0.000 ...  3177.749 secs...\n",
      "There are 69 neural syncs detected\n",
      "Max rval with slope of 0.999557181292875 and offset of -6.683276434495724\n"
     ]
    },
    {
     "data": {
      "image/png": "[encoded data removed]",
      "text/plain": [
       "<Figure size 640x480 with 1 Axes>"
      ]
     },
     "metadata": {},
     "output_type": "display_data"
    }
   ],
   "source": [
    "slopes = {f'{x}': [] for x in subj_ids}\n",
    "offsets = {f'{x}': [] for x in subj_ids}\n",
    "\n",
    "for ix, subj_id in enumerate(subj_ids): \n",
    "    site = subj_sites[ix]\n",
    "    format = subj_formats[ix]\n",
    "    print(f'Working on subj {subj_id}')\n",
    "    \n",
    "    # Set paths\n",
    "    if format == 'nlx':\n",
    "        load_path = f'{base_dir}/data/{subj_id}/raw/neural/nlx/'\n",
    "        save_path = f'{base_dir}/preproc/{subj_id}/LFP/nlx/'\n",
    "    else:   \n",
    "        load_path = f'{base_dir}/data/{subj_id}/raw/neural/'\n",
    "        save_path = f'{base_dir}/preproc/{subj_id}/LFP/'\n",
    "    if not os.path.isdir(save_path):\n",
    "        os.mkdir(save_path)\n",
    "\n",
    "    behav_path = f'{base_dir}/data/{subj_id}/raw/behav/'\n",
    "    if not os.path.isdir(f'{base_dir}/preproc/{subj_id}/behav'):\n",
    "        os.mkdir(f'{base_dir}/preproc/{subj_id}/behav')\n",
    "\n",
    "    log_file = glob(f'{behav_path}/*.log')[0]\n",
    "    time_df = SNT_utils.parse_logfile(log_file)\n",
    "    time_df.to_csv(f'{base_dir}/preproc/{subj_id}/behav/time_df.csv', index=False)\n",
    "    missing_responses = time_df[(time_df['decision_trial_start'].notna()) & (time_df['rt'] == 0)]\n",
    "    print(f'{missing_responses.shape[0]} responses missed for {subj_id}')\n",
    "\n",
    "    beh_ts = time_df['decision_trial_start'].values\n",
    "    beh_ts = beh_ts[~np.isnan(beh_ts)]\n",
    "    print(f'There are {len(beh_ts)} behav syncs detected')\n",
    "    \n",
    "    # Synchronize to the photodiode or whatever your neural sync signal is\n",
    "    if subj_id == 'MS038':\n",
    "        photodiode_data = mne.io.read_raw_fif(f'{save_path}photodiode.fif', preload=True)\n",
    "        photodiode_data._data = photodiode_data._data[:,600000:]\n",
    "        \n",
    "        smoothSize=35 \n",
    "        windSize=20\n",
    "        height=5.6       \n",
    "        \n",
    "    else:\n",
    "        photodiode_data = mne.io.read_raw_fif(f'{load_path}photodiode.fif', preload=True)\n",
    "        # if subj_id == 'MS034':\n",
    "        #     photodiode_data._data = photodiode_data._data[0,:850000]\n",
    "        \n",
    "        smoothSize=15\n",
    "        windSize=15\n",
    "        height=0.3\n",
    "\n",
    "#     try:\n",
    "#         slope, offset = sync_utils.synchronize_data(beh_ts, \n",
    "#                             photodiode_data, \n",
    "#                             smoothSize=11, windSize=15,\n",
    "#                             height=0.8)\n",
    "        \n",
    "#     except Exception:\n",
    "#         try:\n",
    "#             print(\"fast and robust sync failed - trying simple sync now\")\n",
    "#             slope, offset = SNT_utils.synchronize(beh_ts, photodiode_data, subj_id, smoothSize, windSize, height)\n",
    "#         except Exception as e:\n",
    "#             raise RuntimeError(\"Both synchronization methods failed. Please review parameters.\") from e\n",
    "    \n",
    "    try:\n",
    "        slope, offset = SNT_utils.synchronize(beh_ts, photodiode_data, subj_id, smoothSize, windSize, height)\n",
    "    except Exception as e:\n",
    "        raise RuntimeError(\"Sync failed. Please review parameters or try another method\") from e\n",
    "\n",
    "    slopes[subj_id].append(slope)\n",
    "    offsets[subj_id].append(offset)\n",
    "\n",
    "record_file = f'{base_dir}/slope_offset_records.xlsx'\n",
    "if not os.path.isfile(record_file):\n",
    "    pd.DataFrame(columns=['subject', 'slope', 'offset']).to_excel(record_file, index=False)\n",
    "record_df = pd.read_excel(record_file)\n",
    "for ix, subj_id in enumerate(subj_ids):\n",
    "    if not record_df['subject'].isin([subj_id]).any():\n",
    "        record_df.loc[len(record_df)] = [subj_id, slopes[subj_id], offsets[subj_id]]\n",
    "record_df_sorted = record_df.sort_values(by='subject')\n",
    "record_df = record_df_sorted\n",
    "record_df.to_excel(record_file, index=False)"
   ]
  },
  {
   "cell_type": "code",
   "execution_count": 20,
   "id": "26d90bb7-e106-4c60-b5c1-7eaef06bc422",
   "metadata": {},
   "outputs": [
    {
     "data": {
      "text/html": [
       "<div>\n",
       "<style scoped>\n",
       "    .dataframe tbody tr th:only-of-type {\n",
       "        vertical-align: middle;\n",
       "    }\n",
       "\n",
       "    .dataframe tbody tr th {\n",
       "        vertical-align: top;\n",
       "    }\n",
       "\n",
       "    .dataframe thead th {\n",
       "        text-align: right;\n",
       "    }\n",
       "</style>\n",
       "<table border=\"1\" class=\"dataframe\">\n",
       "  <thead>\n",
       "    <tr style=\"text-align: right;\">\n",
       "      <th></th>\n",
       "      <th>subject</th>\n",
       "      <th>slope</th>\n",
       "      <th>offset</th>\n",
       "    </tr>\n",
       "  </thead>\n",
       "  <tbody>\n",
       "    <tr>\n",
       "      <th>0</th>\n",
       "      <td>MS003</td>\n",
       "      <td>[0.009770465908437867]</td>\n",
       "      <td>[1465.7075242408157]</td>\n",
       "    </tr>\n",
       "    <tr>\n",
       "      <th>1</th>\n",
       "      <td>MS008</td>\n",
       "      <td>[1.0000552356653618]</td>\n",
       "      <td>[-133.4580524010673]</td>\n",
       "    </tr>\n",
       "    <tr>\n",
       "      <th>2</th>\n",
       "      <td>MS009</td>\n",
       "      <td>[0.9998242775329492]</td>\n",
       "      <td>[-37.959870045649524]</td>\n",
       "    </tr>\n",
       "    <tr>\n",
       "      <th>3</th>\n",
       "      <td>MS017</td>\n",
       "      <td>[0.9215976818556111]</td>\n",
       "      <td>[224.9851481005454]</td>\n",
       "    </tr>\n",
       "    <tr>\n",
       "      <th>4</th>\n",
       "      <td>MS019</td>\n",
       "      <td>[1.000180750869814]</td>\n",
       "      <td>[-4.048653441513906]</td>\n",
       "    </tr>\n",
       "    <tr>\n",
       "      <th>5</th>\n",
       "      <td>MS020</td>\n",
       "      <td>[0.999559753399886]</td>\n",
       "      <td>[3.014539028254454]</td>\n",
       "    </tr>\n",
       "    <tr>\n",
       "      <th>6</th>\n",
       "      <td>MS028</td>\n",
       "      <td>[1.9194818291896685]</td>\n",
       "      <td>[995.7164878471098]</td>\n",
       "    </tr>\n",
       "    <tr>\n",
       "      <th>7</th>\n",
       "      <td>MS030</td>\n",
       "      <td>[1.0137373699396954]</td>\n",
       "      <td>[48.26914492235858]</td>\n",
       "    </tr>\n",
       "    <tr>\n",
       "      <th>8</th>\n",
       "      <td>MS043</td>\n",
       "      <td>[0.001243136004317855]</td>\n",
       "      <td>[710.7905849776652]</td>\n",
       "    </tr>\n",
       "    <tr>\n",
       "      <th>9</th>\n",
       "      <td>MS045</td>\n",
       "      <td>[1.0000015292246758]</td>\n",
       "      <td>[13.324360466197263]</td>\n",
       "    </tr>\n",
       "    <tr>\n",
       "      <th>10</th>\n",
       "      <td>MS047</td>\n",
       "      <td>[0.9999853492053359]</td>\n",
       "      <td>[-101.66525322713656]</td>\n",
       "    </tr>\n",
       "    <tr>\n",
       "      <th>11</th>\n",
       "      <td>MS048</td>\n",
       "      <td>[0.9905465104641955]</td>\n",
       "      <td>[795.4234345224513]</td>\n",
       "    </tr>\n",
       "    <tr>\n",
       "      <th>12</th>\n",
       "      <td>MS050</td>\n",
       "      <td>[1.0000046909718932]</td>\n",
       "      <td>[-43.24075682659924]</td>\n",
       "    </tr>\n",
       "    <tr>\n",
       "      <th>13</th>\n",
       "      <td>MS051</td>\n",
       "      <td>[0.9951472760867807]</td>\n",
       "      <td>[37.38763169182097]</td>\n",
       "    </tr>\n",
       "    <tr>\n",
       "      <th>14</th>\n",
       "      <td>MS052</td>\n",
       "      <td>[0.9999868076951971]</td>\n",
       "      <td>[9.846945886267719]</td>\n",
       "    </tr>\n",
       "    <tr>\n",
       "      <th>15</th>\n",
       "      <td>MS053</td>\n",
       "      <td>[0.999557181292875]</td>\n",
       "      <td>[-6.683276434495724]</td>\n",
       "    </tr>\n",
       "  </tbody>\n",
       "</table>\n",
       "</div>"
      ],
      "text/plain": [
       "   subject                   slope                 offset\n",
       "0    MS003  [0.009770465908437867]   [1465.7075242408157]\n",
       "1    MS008    [1.0000552356653618]   [-133.4580524010673]\n",
       "2    MS009    [0.9998242775329492]  [-37.959870045649524]\n",
       "3    MS017    [0.9215976818556111]    [224.9851481005454]\n",
       "4    MS019     [1.000180750869814]   [-4.048653441513906]\n",
       "5    MS020     [0.999559753399886]    [3.014539028254454]\n",
       "6    MS028    [1.9194818291896685]    [995.7164878471098]\n",
       "7    MS030    [1.0137373699396954]    [48.26914492235858]\n",
       "8    MS043  [0.001243136004317855]    [710.7905849776652]\n",
       "9    MS045    [1.0000015292246758]   [13.324360466197263]\n",
       "10   MS047    [0.9999853492053359]  [-101.66525322713656]\n",
       "11   MS048    [0.9905465104641955]    [795.4234345224513]\n",
       "12   MS050    [1.0000046909718932]   [-43.24075682659924]\n",
       "13   MS051    [0.9951472760867807]    [37.38763169182097]\n",
       "14   MS052    [0.9999868076951971]    [9.846945886267719]\n",
       "15   MS053     [0.999557181292875]   [-6.683276434495724]"
      ]
     },
     "execution_count": 20,
     "metadata": {},
     "output_type": "execute_result"
    }
   ],
   "source": [
    "record_df"
   ]
  },
  {
   "cell_type": "markdown",
   "id": "94fcdc1d",
   "metadata": {},
   "source": [
    " - slopes: a dictionary containing the slopes (should be ~ 1) for each subject\n",
    " - offsets: a dictionary containing the offsets for each subject"
   ]
  },
  {
   "cell_type": "markdown",
   "id": "bd052688",
   "metadata": {},
   "source": [
    "## Load your behavioral data & Epoch"
   ]
  },
  {
   "cell_type": "markdown",
   "id": "ae048c93-dfe4-492e-8c35-03190cacf88f",
   "metadata": {},
   "source": [
    "Notes:\n",
    "\n",
    "I also segment a baseline period for every event of interest.\n",
    "\n",
    "I apply a buffer period of 1.0 seconds - this will be helpful when we compute spectrograms later.\n",
    "\n",
    "The IED count for every channel is added to the epoch metadata"
   ]
  },
  {
   "cell_type": "code",
   "execution_count": null,
   "id": "32e6b7fe-2b83-4bdb-9018-79e2f0a3aa1c",
   "metadata": {},
   "outputs": [],
   "source": [
    "slopes = {'MS030': [1.0137373699396954],\n",
    "  'MS043': [1.015339681661327],\n",
    "  'MS047': [0.9999853492053359],\n",
    "  'MS048': [0.9905465104641955],\n",
    "  'MS053': [0.999557181292875]}\n",
    "offsets = {'MS030': [48.26914492235858],\n",
    "  'MS043': [-4.345857671888837],\n",
    "  'MS047': [-101.66525322713656],\n",
    "  'MS048': [795.4234345224513],\n",
    "  'MS053': [-6.683276434495724]}"
   ]
  },
  {
   "cell_type": "code",
   "execution_count": null,
   "id": "5f7a178c-c9f3-42d9-b3fa-52f62d71565b",
   "metadata": {
    "tags": []
   },
   "outputs": [],
   "source": [
    "for ix, subj_id in enumerate(subj_ids): \n",
    "    site = subj_sites[ix]\n",
    "    format = subj_formats[ix]\n",
    "    slope = slopes[subj_id][0]\n",
    "    offset = offsets[subj_id][0]\n",
    "    print(f'Working on subj {subj_id} with slope {slope} and offset {offset}')\n",
    "    \n",
    "    # Set paths\n",
    "    if format == 'nlx':\n",
    "        load_path = f'{base_dir}/data/{subj_id}/raw/neural/nlx/'\n",
    "        save_path = f'{base_dir}/preproc/{subj_id}/LFP/nlx/'\n",
    "    else:   \n",
    "        load_path = f'{base_dir}/data/{subj_id}/raw/neural/'\n",
    "        save_path = f'{base_dir}/preproc/{subj_id}/LFP/'\n",
    "    \n",
    "    behav_path = f'{base_dir}/preproc/{subj_id}/behav/'\n",
    "    elec_path = f'{base_dir}/data/{subj_id}/anat/'\n",
    "    \n",
    "    choice_file = glob(f'{behav_path}choice_df_all.csv')[0]\n",
    "    log_file = glob(f'{behav_path}time_df.csv')[0]\n",
    "    choice_df = pd.read_csv(choice_file)\n",
    "    time_df = pd.read_csv(log_file)\n",
    "    \n",
    "    buf = 1.0 # this is the buffer before and after that we use to limit edge effects for TFRs\n",
    "\n",
    "    IED_args = {'peak_thresh':5,\n",
    "           'closeness_thresh':0.25, \n",
    "           'width_thresh':0.2}\n",
    "\n",
    "    # Define epochs of interest according to timestamps from behavior df \n",
    "    epochs_list = ['options_slide', 'decision_time', 'narration_slide', 'ITI']\n",
    "    behav_times = {f'{x}': [] for x in epochs_list}\n",
    "    behav_times['baseline'] = time_df['decision_trial_start'].dropna().tolist()\n",
    "    behav_times['decision_time'] = time_df['choice_start'].dropna().tolist()\n",
    "    behav_times['ITI'] = time_df['choice_start'].dropna().tolist()\n",
    "    behav_times['narration_slide'] = time_df['space_press_time'].dropna().tolist()\n",
    "\n",
    "\n",
    "    # Create a dictionary with your event name (matching your dataframe), and the time-window for the event\n",
    "    evs = {'decision_time': [-1.5, 0], #ChoiceOnset\n",
    "           'narration_slide': [-1.5, 0], # narration slide\n",
    "           'ITI': [0, 0.5],  # ITI\n",
    "           'baseline': [-0.2, 0],  # baseline, few ms before options slide\n",
    "          }\n",
    "\n",
    "    buf = 1.0  # this is the buffer before and after that we use to limit edge effects for TFRs\n",
    "    epochs_all_evs = {f'{x}': np.nan for x in evs}\n",
    "\n",
    "    \n",
    "    for event in evs.keys():\n",
    "        pre = evs[event][0]\n",
    "        post = evs[event][1]\n",
    "        fixed_baseline = None\n",
    "\n",
    "        if event == 'narration_slide' and subj_id == 'MS048':\n",
    "            behav_times['narration_slide'] = time_df['non_decision_trial_start'].dropna() - 0.45\n",
    "\n",
    "        # THE following function will now SAVE out dataframes that indicate IED and artifact time points in your data\n",
    "        epochs = lfp_preprocess_utils.make_epochs(load_path=f'{save_path}ieeg_bp.fif', \n",
    "                                                  slope=slope, offset=offset, \n",
    "                                                  behav_name=event, behav_times=behav_times[event],\n",
    "                                                  ev_start_s=pre, ev_end_s=post, buf_s=buf, downsamp_factor=None, IED_args=IED_args, detrend=0)\n",
    "\n",
    "\n",
    "        epochs_all_evs[event] = epochs\n",
    "        \n",
    "        if event == 'decision_time' or event == 'ITI':\n",
    "            print(f'Adding metadata for subj {subj_id} to {event} epoch')\n",
    "            behav_params = ['decision_num', 'char_decision_num', 'scene_num', 'dimension',\n",
    "               'char_role_num', 'onset', 'button_press', 'decision', 'affil', 'power',\n",
    "               'reaction_time', 'char', 'decision_axis', 'x', 'y', 'r_current',\n",
    "               'r_new', 'angle_current', 'angle_new', 'decision_id', 'raw_angle',\n",
    "               'raw_angle_new', 'cosine_current', 'cosine_new']\n",
    "\n",
    "            event_metadata = pd.DataFrame(columns=behav_params)\n",
    "            choice_df_clean = choice_df[choice_df['button_press'] != 0]\n",
    "            \n",
    "            #independent vars\n",
    "            for param in behav_params: \n",
    "                event_metadata[param] = choice_df_clean[param].tolist()\n",
    "                \n",
    "            epochs_all_evs[event].metadata = event_metadata\n",
    "            \n",
    "        epochs_all_evs[event].save(f'{save_path}/{event}-epo.fif', overwrite=True)\n",
    "\n"
   ]
  },
  {
   "cell_type": "markdown",
   "id": "6e7661bf",
   "metadata": {},
   "source": [
    "### Plot and examine the epochs if you'd like:"
   ]
  },
  {
   "cell_type": "code",
   "execution_count": null,
   "id": "af96abae",
   "metadata": {},
   "outputs": [],
   "source": [
    "# %matplotlib notebook\n",
    "# fig = epochs_all_subjs_all_evs['MS007']['feedback_start'].plot(n_epochs=10, n_channels=10)"
   ]
  },
  {
   "cell_type": "code",
   "execution_count": null,
   "id": "6261e54d",
   "metadata": {},
   "outputs": [],
   "source": [
    "# # Need this following line to save the annotations to the epochs object \n",
    "# fig.fake_keypress('a')"
   ]
  }
 ],
 "metadata": {
  "kernelspec": {
   "display_name": "lfp",
   "language": "python",
   "name": "lfp"
  },
  "language_info": {
   "codemirror_mode": {
    "name": "ipython",
    "version": 3
   },
   "file_extension": ".py",
   "mimetype": "text/x-python",
   "name": "python",
   "nbconvert_exporter": "python",
   "pygments_lexer": "ipython3",
   "version": "3.10.8"
  }
 },
 "nbformat": 4,
 "nbformat_minor": 5
}

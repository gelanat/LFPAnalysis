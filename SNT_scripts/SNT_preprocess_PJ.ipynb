{
 "cells": [
  {
   "cell_type": "markdown",
   "id": "4a1019c2",
   "metadata": {},
   "source": [
    "## LFP Preprocessing"
   ]
  },
  {
   "cell_type": "markdown",
   "id": "e5720f96",
   "metadata": {},
   "source": [
    "THIS NOTEBOOK HAS BEEN EDITED FOR THE PREPROESSING OF THE SOCIAL NAVIGATION TASK\n",
    "\n",
    "These are magics that provide certain functionality. Specifically, if you edit functions that are called in this notebook, the functions are reloaded so the changes propagate here without needing to reload the notebook."
   ]
  },
  {
   "cell_type": "code",
   "execution_count": 1,
   "id": "81b857e6",
   "metadata": {
    "tags": []
   },
   "outputs": [],
   "source": [
    "%matplotlib inline\n",
    "%reload_ext autoreload\n",
    "%autoreload 2"
   ]
  },
  {
   "cell_type": "code",
   "execution_count": 2,
   "id": "903fdada",
   "metadata": {
    "tags": []
   },
   "outputs": [],
   "source": [
    "import numpy as np\n",
    "import mne\n",
    "from glob import glob\n",
    "import matplotlib.pyplot as plt\n",
    "from matplotlib.backends.backend_pdf import PdfPages\n",
    "import seaborn as sns\n",
    "from scipy.stats import zscore, linregress, ttest_ind, ttest_rel, ttest_1samp\n",
    "import pandas as pd\n",
    "from mne.preprocessing.bads import _find_outliers\n",
    "import os \n",
    "import joblib\n",
    "import pickle\n",
    "from tqdm import tqdm\n",
    "from IPython.display import clear_output\n",
    "import warnings \n",
    "import scipy\n",
    "\n",
    "# I only want to see warnings once\n",
    "warnings.filterwarnings('ignore')"
   ]
  },
  {
   "cell_type": "markdown",
   "id": "a2c406ed-68a9-44f6-beff-7c1027ca66ef",
   "metadata": {},
   "source": [
    "Note: Different users can have different paths. When sharing code with others, you can define username and use it instead of hardcoding paths."
   ]
  },
  {
   "cell_type": "code",
   "execution_count": 3,
   "id": "d78c3ea4-494b-4bd7-b4a5-d099450e7d89",
   "metadata": {},
   "outputs": [
    {
     "name": "stdout",
     "output_type": "stream",
     "text": [
      "jainp08\n"
     ]
    }
   ],
   "source": [
    "import getpass\n",
    "username = getpass.getuser()\n",
    "print(username)"
   ]
  },
  {
   "cell_type": "markdown",
   "id": "11cd439a",
   "metadata": {},
   "source": [
    "Note: If you have installed the LFPAnalysis package in editable form on Minerva, you must append the local path! This is because Minerva requires that you point your package installs away from the local directory for space reasons, but editable packages have to be installed locally.\n",
    "\n",
    "THE VERSION USED HERE CAN BE FOUND AT https://github.com/gelanat/LFPAnalysis.git"
   ]
  },
  {
   "cell_type": "code",
   "execution_count": 4,
   "id": "10b3889b",
   "metadata": {
    "tags": []
   },
   "outputs": [],
   "source": [
    "import sys\n",
    "sys.path.append(f'/hpc/users/{username}/LFPAnalysis/')\n",
    "if username=='jainp08':\n",
    "    sys.path.append(f'/hpc/users/{username}/LFPAnalysis_SNT/')"
   ]
  },
  {
   "cell_type": "code",
   "execution_count": 5,
   "id": "7b549c60",
   "metadata": {
    "tags": []
   },
   "outputs": [],
   "source": [
    "from LFPAnalysis_SNT import lfp_preprocess_utils, sync_utils, analysis_utils, nlx_utils, SNT_utils"
   ]
  },
  {
   "cell_type": "markdown",
   "id": "f88d4a1b-ee2b-49f9-8634-70746997c7c8",
   "metadata": {},
   "source": [
    "## Setting variables"
   ]
  },
  {
   "cell_type": "code",
   "execution_count": 6,
   "id": "091b0531-ad61-4ba3-9ced-66211bcd449e",
   "metadata": {},
   "outputs": [],
   "source": [
    "subj_ids = ['MS019']\n",
    "# ['MS008', 'MS009', 'MS019', 'MS020', 'MS030',\n",
    "#             'MS034', 'MS042', 'MS043', 'MS045', 'MS047', \n",
    "#             'MS048', 'MS050', 'MS051', 'MS052', 'MS053',\n",
    "#             'MS054']\n",
    "subj_sites = ['MSSM' for _ in subj_ids]\n",
    "subj_formats = ['edf' for _ in subj_ids]\n",
    "\n",
    "if username == 'tostag01':\n",
    "    base_dir = '/sc/arion/projects/OlfMem/tostag01/SocialNav'\n",
    "\n",
    "if username == 'jainp08':\n",
    "    base_dir = '/sc/arion/projects/OlfMem/jainp08/Social_Navigation/SEEG'"
   ]
  },
  {
   "cell_type": "code",
   "execution_count": 7,
   "id": "234f9645-b081-4751-a099-6e2919b63a0e",
   "metadata": {},
   "outputs": [],
   "source": [
    "load_preproc_data = False\n",
    "load_reref_data = False"
   ]
  },
  {
   "cell_type": "markdown",
   "id": "08ae1c39",
   "metadata": {},
   "source": [
    "## Pre-process (run 1x): "
   ]
  },
  {
   "cell_type": "markdown",
   "id": "82f0c76f",
   "metadata": {},
   "source": [
    "In the pre-processing functions below, we: \n",
    "\n",
    "1. load the raw data (either a .edf file or a folder of .nlx files) into mne objects for use with the mne toolbox: https://mne.tools/stable/index.html.\n",
    "\n",
    "2. load the localized electrode names from the .csv or .xlsx file listing their MNI coordinates into the mne object\n",
    "\n",
    "3. filter and resample as necessary\n",
    "\n",
    "4. re-reference "
   ]
  },
  {
   "cell_type": "code",
   "execution_count": 8,
   "id": "65385637-6484-42c1-842d-5ae7275c3b66",
   "metadata": {
    "scrolled": true,
    "tags": []
   },
   "outputs": [
    {
     "name": "stdout",
     "output_type": "stream",
     "text": [
      "Working on subj MS019\n",
      "Extracting EDF parameters from /sc/arion/projects/OlfMem/jainp08/Social_Navigation/SEEG/data/MS019/raw/neural/MS019_SocialNav.edf...\n",
      "EDF file detected\n",
      "Setting channel info structure...\n",
      "Creating raw.info structure...\n",
      "Reading 0 ... 3398015  =      0.000 ...  3318.374 secs...\n",
      "Overwriting existing file.\n",
      "Writing /sc/arion/projects/OlfMem/jainp08/Social_Navigation/SEEG/data/MS019/raw/neural/photodiode.fif\n",
      "Closing /sc/arion/projects/OlfMem/jainp08/Social_Navigation/SEEG/data/MS019/raw/neural/photodiode.fif\n",
      "[done]\n",
      "Number of electrodes in the mne file is greater than the number of electrodes in the localization file\n",
      "Filtering raw data in 1 contiguous segment\n",
      "Setting up band-stop filter\n",
      "\n",
      "FIR filter parameters\n",
      "---------------------\n",
      "Designing a one-pass, zero-phase, non-causal bandstop filter:\n",
      "- Windowed time-domain design (firwin) method\n",
      "- Hamming window with 0.0194 passband ripple and 53 dB stopband attenuation\n",
      "- Lower transition bandwidth: 0.50 Hz\n",
      "- Upper transition bandwidth: 0.50 Hz\n",
      "- Filter length: 6759 samples (6.601 s)\n",
      "\n"
     ]
    },
    {
     "name": "stderr",
     "output_type": "stream",
     "text": [
      "[Parallel(n_jobs=1)]: Done  17 tasks      | elapsed:    1.5s\n",
      "[Parallel(n_jobs=1)]: Done  71 tasks      | elapsed:    5.3s\n",
      "[Parallel(n_jobs=1)]: Done 161 tasks      | elapsed:   11.8s\n",
      "[Parallel(n_jobs=-1)]: Done  17 tasks      | elapsed:    1.7s\n",
      "[Parallel(n_jobs=-1)]: Done  71 tasks      | elapsed:    6.9s\n",
      "[Parallel(n_jobs=-1)]: Done 161 tasks      | elapsed:   15.6s\n"
     ]
    },
    {
     "name": "stdout",
     "output_type": "stream",
     "text": [
      "Overwriting existing file.\n",
      "Writing /sc/arion/projects/OlfMem/jainp08/Social_Navigation/SEEG/data/MS019/raw/neural/lfp_data.fif\n",
      "Closing /sc/arion/projects/OlfMem/jainp08/Social_Navigation/SEEG/data/MS019/raw/neural/lfp_data.fif\n",
      "[done]\n",
      "Overwriting existing file.\n",
      "Writing /sc/arion/projects/OlfMem/jainp08/Social_Navigation/SEEG/preproc/MS019/LFP/raw_ieeg.fif\n",
      "Closing /sc/arion/projects/OlfMem/jainp08/Social_Navigation/SEEG/preproc/MS019/LFP/raw_ieeg.fif\n",
      "[done]\n",
      "Number of electrodes in the mne file is less than the number of electrodes in the localization file\n",
      "NOTE: pick_channels() is a legacy function. New code should use inst.pick(...).\n",
      "sEEG channel type selected for re-referencing\n",
      "Creating RawArray with float64 data, n_channels=66, n_times=1659188\n",
      "    Range : 0 ... 1659187 =      0.000 ...  3318.374 secs\n",
      "Ready.\n",
      "Added the following bipolar channels:\n",
      "lacas1-lmoif1, lacas10-lmoif1, lacas2-lmoif1, lacas3-lmoif1, lacas5-lmoif1, lacas6-lmoif1, lacas7-lmoif1, lacas8-lmoif1, lacas9-lmoif1, lagit1-lagit6, lagit2-lagit6, lagit3-lagit6, lagit7-lagit6, lagit8-lagit6, lagit9-lhpit8, lhpit1-lhpit5, lhpit2-lhpit5, lhpit3-lhpit5, lhpit9-lhpit8, liito1-liito3, liito6-lhpit8, lmcms1-lpioc2, lmcms2-lpioc2, lmcms3-lpioc2, lmcms4-lpioc2, lmcms6-lpioc2, lmcms7-lpioc2, lmoif3-lmoif1, lmoif4-lmoif1, lmoif5-lmoif1, lmoif6-lmoif1, lmoif7-lmoif1, lmoif8-lmoif1, lmoif9-lmoif1, lpioc13-lpioc12, lsppc1-lsppc5, lsppc10-lsppc7, lsppc2-lsppc5, lsppc3-lsppc5, racas10-racas5, racas6-racas5, racas9-racas5, ragit1-rhpit5, ragit2-rhpit5, ragit3-rhpit5, ragit6-rhpit5, ragit7-rhpit5, ragit8-rhpit5, rhpit1-rhpit5, rhpit2-rhpit5, rhpit3-rhpit5, rhpit6-rhpit5, rhpit8-riito4, riito6-riito5, rmcms1-rmcms2, rmcms3-rmcms2, rmcms4-rmcms2, rmoif8-rmoif7, rpioc12-rpioc9, rpioc2-rpioc3, rsppc1-rsppc4, rsppc10-rsppc6, rsppc2-rsppc4, rsppc3-rsppc4, rsppc8-rsppc6, rsppc9-rsppc6\n",
      "Overwriting existing file.\n",
      "Writing /sc/arion/projects/OlfMem/jainp08/Social_Navigation/SEEG/preproc/MS019/LFP/ieeg_bp.fif\n",
      "Closing /sc/arion/projects/OlfMem/jainp08/Social_Navigation/SEEG/preproc/MS019/LFP/ieeg_bp.fif\n",
      "[done]\n"
     ]
    }
   ],
   "source": [
    "for ix, subj_id in enumerate(subj_ids): \n",
    "    site = subj_sites[ix]\n",
    "    format = subj_formats[ix]\n",
    "    print(f'Working on subj {subj_id}')\n",
    "    \n",
    "    # Set paths\n",
    "    if format == 'nlx':\n",
    "        load_path = f'{base_dir}/data/{subj_id}/raw/neural/nlx/'\n",
    "        save_path = f'{base_dir}/preproc/{subj_id}/LFP/nlx/'\n",
    "    else:   \n",
    "        load_path = f'{base_dir}/data/{subj_id}/raw/neural/'\n",
    "        save_path = f'{base_dir}/preproc/{subj_id}/LFP/'\n",
    "    \n",
    "    elec_path = f'{base_dir}/data/{subj_id}/anat/'\n",
    "    \n",
    "    # Check if path exists for saving, and if not, make it\n",
    "    if not os.path.exists(save_path):\n",
    "        os.makedirs(save_path)\n",
    "\n",
    "    # electrode files could either be csv or excel\n",
    "    elec_files = glob(f'{elec_path}/*.csv') + glob(f'{elec_path}/*.xlsx')\n",
    "    # There should really only be one, so grab it with the zero-index \n",
    "    elec_file = elec_files[0]\n",
    "    \n",
    "    ### Pre-process data\n",
    "    if load_preproc_data:\n",
    "        mne_data = mne.io.Raw(f'{save_path}raw_ieeg.fif', preload=True)\n",
    "        \n",
    "    else:\n",
    "        # Make MNE file\n",
    "        mne_data = lfp_preprocess_utils.make_mne(load_path=load_path, \n",
    "                                                 elec_path=elec_file,\n",
    "                                                 format=format,\n",
    "                                                 return_data=True,\n",
    "                                                 site=site,\n",
    "                                                 check_bad=False) # changed this to not annotate anything as bad \n",
    "\n",
    "        # Save this data so that you don't need this step again:\n",
    "        mne_data.save(f'{save_path}/raw_ieeg.fif', overwrite=True)\n",
    "        \n",
    "    ### Bipolar re-reference data\n",
    "    if load_reref_data:\n",
    "        mne_data_reref = mne.io.read_raw_fif(f'{save_path}/ieeg_bp.fif', preload=True)\n",
    "    else:\n",
    "        # Re-reference neural data\n",
    "        mne_data_reref = lfp_preprocess_utils.ref_mne(mne_data=mne_data, \n",
    "                                                  elec_path=elec_file, \n",
    "                                                  method='wm', \n",
    "                                                  site=site)\n",
    "\n",
    "        # Save this data so that you don't need this step again:\n",
    "        mne_data_reref.save(f'{save_path}/ieeg_bp.fif', overwrite=True)\n",
    "\n",
    "    # Should also save out re-referenced elec_file: \n",
    "    elec_data = lfp_preprocess_utils.load_elec(elec_file)\n",
    "    anode_list = [x.split('-')[0] for x in mne_data_reref.ch_names]\n",
    "    elec_df = elec_data[elec_data.label.str.lower().isin(anode_list)]\n",
    "    elec_df['label'] =  elec_df.label.apply(lambda x: [a for a in mne_data_reref.ch_names if str(x).lower() in a.split('-')[0]][0])\n",
    "\n",
    "    # Add region to the data frame \n",
    "\n",
    "    manual_col = [col for col in elec_df.columns if 'manual' in col.lower()][0]\n",
    "    all_regions = [] \n",
    "    for chan_name in elec_df.label.unique():\n",
    "        elec_region = analysis_utils.select_rois_picks(elec_df, chan_name, manual_col=manual_col)\n",
    "        all_regions.append(elec_region) \n",
    "\n",
    "    elec_df['SNT_region'] = all_regions\n",
    "    elec_df['hemisphere'] = elec_df.label.apply(lambda x: x[0])\n",
    "\n",
    "    elec_df.to_csv(f'{save_path}/labels_bp', index=False)\n"
   ]
  },
  {
   "cell_type": "markdown",
   "id": "8ff05564",
   "metadata": {},
   "source": [
    " - mne_data: a Raw mne object, where the data has been loaded, filtered for line noise, parsed for different data types, and resampled if necessary. \n",
    " \n",
    " - mne_data_reref: an mne object containing re-referenced data (either white matter or bipolar)"
   ]
  },
  {
   "cell_type": "markdown",
   "id": "c1b53a3d",
   "metadata": {
    "jp-MarkdownHeadingCollapsed": true,
    "tags": []
   },
   "source": [
    "## NOW look at the data to manually remove channels: "
   ]
  },
  {
   "cell_type": "markdown",
   "id": "03b12839",
   "metadata": {},
   "source": [
    "After bipolar referencing: "
   ]
  },
  {
   "cell_type": "code",
   "execution_count": null,
   "id": "eeca6f46",
   "metadata": {
    "tags": []
   },
   "outputs": [],
   "source": [
    "%matplotlib notebook "
   ]
  },
  {
   "cell_type": "code",
   "execution_count": null,
   "id": "e892ec21",
   "metadata": {
    "tags": []
   },
   "outputs": [],
   "source": [
    "# Scroll up/down and left/right using your keyboard. CLICK on a channel to turn it 'grey' and mark as a 'bad' channel. \n",
    "# If you click a grey channel again it will unmark it. \n",
    "\n",
    "mne_data_reref = mne.io.read_raw_fif(f'{save_path}/ieeg_bp.fif', preload=True)\n",
    "fig = mne_data_reref.plot(start=0, duration=120, n_channels=30, \n",
    "                      scalings=mne_data_reref._data.max()/30\n",
    "                     )"
   ]
  },
  {
   "cell_type": "code",
   "execution_count": null,
   "id": "90817f7c",
   "metadata": {
    "tags": []
   },
   "outputs": [],
   "source": [
    "# ALSO look at the power spectra! \n",
    "# You can click on channels here to identify them, and go back to the viz above to mark them as noise if need be\n",
    "\n",
    "mne_data_reref.compute_psd().plot()"
   ]
  },
  {
   "cell_type": "markdown",
   "id": "dc2e10c5",
   "metadata": {},
   "source": [
    " - mne_dict: a dictionary containing all of your subjects' re-referenced mne data \n",
    " \n",
    " - photodiode_dict: a dictionary containing all of your subjects' photodiode data \n",
    " \n",
    " - elec_dict: a dictionary containing the paths to your subjects' electrode data "
   ]
  },
  {
   "cell_type": "markdown",
   "id": "ac9b7377",
   "metadata": {},
   "source": [
    "## Sync behavioral and neural data"
   ]
  },
  {
   "cell_type": "markdown",
   "id": "6b57df8f",
   "metadata": {},
   "source": [
    "Here, we perform a critical step: computing the time offset between the computer that recorded the neural data and the laptop that featured the experiment. \n",
    "\n",
    "The function here only requires a **subset** of detected sync signals (i.e. photodiode deflections) to be detected to successfully compute this offset. "
   ]
  },
  {
   "cell_type": "markdown",
   "id": "a501a02c-8417-4608-b8ab-dcefe44c53f8",
   "metadata": {},
   "source": [
    "First, you may need to MANUALLY clean the photodiode signal if the recording quality is poor. Load it, plot it, and try to isolate/amplify the pulses. "
   ]
  },
  {
   "cell_type": "code",
   "execution_count": 9,
   "id": "e16c93e9-1c92-4330-9bb1-d355eb9e68b9",
   "metadata": {
    "scrolled": true,
    "tags": []
   },
   "outputs": [
    {
     "name": "stdout",
     "output_type": "stream",
     "text": [
      "Working on subj MS019\n",
      "13 responses missed for MS019\n",
      "There are 63 behav syncs detected\n",
      "Opening raw data file /sc/arion/projects/OlfMem/jainp08/Social_Navigation/SEEG/data/MS019/raw/neural/photodiode.fif...\n",
      "Isotrak not found\n",
      "    Range : 0 ... 3398015 =      0.000 ...  3318.374 secs\n",
      "Ready.\n",
      "Reading 0 ... 3398015  =      0.000 ...  3318.374 secs...\n",
      "There are 68 neural syncs detected\n",
      "Max rval with slope of 1.000180750869814 and offset of -4.048653441513906\n"
     ]
    },
    {
     "data": {
      "image/png": "[encoded data removed]",
      "text/plain": [
       "<Figure size 640x480 with 1 Axes>"
      ]
     },
     "metadata": {},
     "output_type": "display_data"
    }
   ],
   "source": [
    "slopes = {f'{x}': 0 for x in subj_ids}\n",
    "offsets = {f'{x}': 0 for x in subj_ids}\n",
    "\n",
    "for ix, subj_id in enumerate(subj_ids): \n",
    "    site = subj_sites[ix]\n",
    "    format = subj_formats[ix]\n",
    "    print(f'Working on subj {subj_id}')\n",
    "    \n",
    "    # Set paths\n",
    "    if format == 'nlx':\n",
    "        load_path = f'{base_dir}/data/{subj_id}/raw/neural/nlx/'\n",
    "        save_path = f'{base_dir}/preproc/{subj_id}/LFP/nlx/'\n",
    "    else:   \n",
    "        load_path = f'{base_dir}/data/{subj_id}/raw/neural/'\n",
    "        save_path = f'{base_dir}/preproc/{subj_id}/LFP/'\n",
    "\n",
    "    behav_path = f'{base_dir}/data/{subj_id}/raw/behav/'\n",
    "    log_file = glob(f'{behav_path}/*.log')[0]\n",
    "    time_df = SNT_utils.parse_logfile(log_file)\n",
    "    time_df.to_csv(f'{base_dir}/preproc/{subj_id}/behav/time_df.csv', index=False)\n",
    "    missing_responses = time_df[(time_df['decision_trial_start'].notna()) & (time_df['rt'] == 0)]\n",
    "    print(f'{missing_responses.shape[0]} responses missed for {subj_id}')\n",
    "\n",
    "    beh_ts = time_df['decision_trial_start'].values\n",
    "    beh_ts = beh_ts[~np.isnan(beh_ts)]\n",
    "    print(f'There are {len(beh_ts)} behav syncs detected')\n",
    "    \n",
    "    # Synchronize to the photodiode or whatever your neural sync signal is\n",
    "    if subj_id == 'MS038':\n",
    "        photodiode_data = mne.io.read_raw_fif(f'{save_path}clean_photodiode.fif', preload=True)\n",
    "        photodiode_data._data = photodiode_data._data[:,600000:]\n",
    "        \n",
    "        smoothSize=35 \n",
    "        windSize=20\n",
    "        height=5.6       \n",
    "        \n",
    "    else:\n",
    "        photodiode_data = mne.io.read_raw_fif(f'{load_path}photodiode.fif', preload=True)\n",
    "        if subj_id == 'MS034':\n",
    "            photodiode_data._data = photodiode_data._data[:,:1750000]\n",
    "        if subj_id == 'MS042':\n",
    "            photodiode_data._data = photodiode_data._data[:,:1800000]\n",
    "        if subj_id == 'MS043':\n",
    "            photodiode_data._data = photodiode_data._data[:,0:1540000]\n",
    "        if subj_id == 'MS054':\n",
    "            photodiode_data._data *= -1\n",
    "\n",
    "        smoothSize=15\n",
    "        windSize=15\n",
    "        height=0.3\n",
    "\n",
    "#     try:\n",
    "#         slope, offset = sync_utils.synchronize_data(beh_ts, \n",
    "#                             photodiode_data, \n",
    "#                             smoothSize=11, windSize=15,\n",
    "#                             height=0.8)\n",
    "        \n",
    "#     except Exception:\n",
    "#         try:\n",
    "#             print(\"fast and robust sync failed - trying simple sync now\")\n",
    "#             slope, offset = SNT_utils.synchronize(beh_ts, photodiode_data, subj_id, smoothSize, windSize, height)\n",
    "#         except Exception as e:\n",
    "#             raise RuntimeError(\"Both synchronization methods failed. Please review parameters.\") from e\n",
    "    \n",
    "    try:\n",
    "        slope, offset = SNT_utils.synchronize(beh_ts, photodiode_data, subj_id, smoothSize, windSize, height)\n",
    "    except Exception as e:\n",
    "        raise RuntimeError(\"Sync failed. Please review parameters or try another method\") from e\n",
    "\n",
    "    slopes[subj_id] = slope\n",
    "    offsets[subj_id] = offset\n",
    "\n",
    "record_file = f'{base_dir}/slope_offset_records.xlsx'\n",
    "if not os.path.isfile(record_file):\n",
    "    pd.DataFrame(columns=['subject', 'slope', 'offset']).to_excel(record_file, index=False)\n",
    "else:\n",
    "    record_df = pd.read_excel(record_file)\n",
    "    for ix, subj_id in enumerate(subj_ids):\n",
    "        if subj_id not in record_df['subject'].tolist():\n",
    "            record_df.loc[len(record_df)] = [subj_id, slopes[subj_id], offsets[subj_id]]\n",
    "        else:\n",
    "            record_df.loc[record_df['subject'] == subj_id, 'slope'] == slopes[subj_id]\n",
    "            record_df.loc[record_df['subject'] == subj_id, 'offset'] == offsets[subj_id]\n",
    "            \n",
    "    record_df_sorted = record_df.copy()\n",
    "    record_df_sorted.sort_values(by='subject')\n",
    "    record_df = record_df_sorted\n",
    "    record_df.to_excel(record_file, index=False)"
   ]
  },
  {
   "cell_type": "markdown",
   "id": "94fcdc1d",
   "metadata": {},
   "source": [
    " - slopes: a dictionary containing the slopes (should be ~ 1) for each subject\n",
    " - offsets: a dictionary containing the offsets for each subject"
   ]
  },
  {
   "cell_type": "markdown",
   "id": "bd052688",
   "metadata": {},
   "source": [
    "## Load your behavioral data & Epoch"
   ]
  },
  {
   "cell_type": "markdown",
   "id": "ae048c93-dfe4-492e-8c35-03190cacf88f",
   "metadata": {},
   "source": [
    "Notes:\n",
    "\n",
    "I also segment a baseline period for every event of interest.\n",
    "\n",
    "I apply a buffer period of 1.0 seconds - this will be helpful when we compute spectrograms later.\n",
    "\n",
    "The IED count for every channel is added to the epoch metadata"
   ]
  },
  {
   "cell_type": "code",
   "execution_count": 10,
   "id": "32e6b7fe-2b83-4bdb-9018-79e2f0a3aa1c",
   "metadata": {},
   "outputs": [],
   "source": [
    "record_file = f'{base_dir}/slope_offset_records.xlsx'\n",
    "record_df = pd.read_excel(record_file)"
   ]
  },
  {
   "cell_type": "code",
   "execution_count": 11,
   "id": "9db69f81-4e4f-4567-a788-b1d9cdbc0eff",
   "metadata": {},
   "outputs": [
    {
     "name": "stdout",
     "output_type": "stream",
     "text": [
      "Working on subj MS019 with slope 1.000180750869814 and offset -4.048653441513906\n",
      "Opening raw data file /sc/arion/projects/OlfMem/jainp08/Social_Navigation/SEEG/preproc/MS019/LFP/ieeg_bp.fif...\n",
      "    Range : 0 ... 1659187 =      0.000 ...  3318.374 secs\n",
      "Ready.\n",
      "Reading 0 ... 1659187  =      0.000 ...  3318.374 secs...\n",
      "Filtering raw data in 1 contiguous segment\n",
      "Setting up band-pass filter from 25 - 80 Hz\n",
      "\n",
      "FIR filter parameters\n",
      "---------------------\n",
      "Designing a one-pass, zero-phase, non-causal bandpass filter:\n",
      "- Windowed time-domain design (firwin) method\n",
      "- Hamming window with 0.0194 passband ripple and 53 dB stopband attenuation\n",
      "- Lower passband edge: 25.00\n",
      "- Lower transition bandwidth: 6.25 Hz (-6 dB cutoff frequency: 21.88 Hz)\n",
      "- Upper passband edge: 80.00 Hz\n",
      "- Upper transition bandwidth: 20.00 Hz (-6 dB cutoff frequency: 90.00 Hz)\n",
      "- Filter length: 265 samples (0.530 s)\n",
      "\n"
     ]
    },
    {
     "name": "stderr",
     "output_type": "stream",
     "text": [
      "[Parallel(n_jobs=-1)]: Done  17 tasks      | elapsed:    1.0s\n",
      "[Parallel(n_jobs=-1)]: Done  17 tasks      | elapsed:    1.3s\n"
     ]
    },
    {
     "name": "stdout",
     "output_type": "stream",
     "text": [
      "Used Annotations descriptions: ['decision_time']\n",
      "Not setting metadata\n",
      "50 matching events found\n",
      "No baseline correction applied\n",
      "0 projection items activated\n",
      "Using data from preloaded Raw for 50 events and 1751 original time points ...\n",
      "0 bad epochs dropped\n",
      "Adding metadata for subj MS019 to decision_time epoch\n",
      "Dropped 12 epochs: 0, 4, 8, 9, 10, 11, 16, 18, 22, 26, 33, 44\n",
      "Adding metadata with 24 columns\n",
      "Overwriting existing file.\n",
      "Overwriting existing file.\n",
      "Opening raw data file /sc/arion/projects/OlfMem/jainp08/Social_Navigation/SEEG/preproc/MS019/LFP/ieeg_bp.fif...\n",
      "    Range : 0 ... 1659187 =      0.000 ...  3318.374 secs\n",
      "Ready.\n",
      "Reading 0 ... 1659187  =      0.000 ...  3318.374 secs...\n",
      "Filtering raw data in 1 contiguous segment\n",
      "Setting up band-pass filter from 25 - 80 Hz\n",
      "\n",
      "FIR filter parameters\n",
      "---------------------\n",
      "Designing a one-pass, zero-phase, non-causal bandpass filter:\n",
      "- Windowed time-domain design (firwin) method\n",
      "- Hamming window with 0.0194 passband ripple and 53 dB stopband attenuation\n",
      "- Lower passband edge: 25.00\n",
      "- Lower transition bandwidth: 6.25 Hz (-6 dB cutoff frequency: 21.88 Hz)\n",
      "- Upper passband edge: 80.00 Hz\n",
      "- Upper transition bandwidth: 20.00 Hz (-6 dB cutoff frequency: 90.00 Hz)\n",
      "- Filter length: 265 samples (0.530 s)\n",
      "\n"
     ]
    },
    {
     "name": "stderr",
     "output_type": "stream",
     "text": [
      "[Parallel(n_jobs=-1)]: Done  17 tasks      | elapsed:    1.0s\n",
      "[Parallel(n_jobs=-1)]: Done  17 tasks      | elapsed:    1.3s\n"
     ]
    },
    {
     "name": "stdout",
     "output_type": "stream",
     "text": [
      "Used Annotations descriptions: ['narration_slide']\n",
      "Not setting metadata\n",
      "132 matching events found\n",
      "No baseline correction applied\n",
      "0 projection items activated\n",
      "Using data from preloaded Raw for 132 events and 1751 original time points ...\n",
      "0 bad epochs dropped\n",
      "Overwriting existing file.\n",
      "Overwriting existing file.\n",
      "Opening raw data file /sc/arion/projects/OlfMem/jainp08/Social_Navigation/SEEG/preproc/MS019/LFP/ieeg_bp.fif...\n",
      "    Range : 0 ... 1659187 =      0.000 ...  3318.374 secs\n",
      "Ready.\n",
      "Reading 0 ... 1659187  =      0.000 ...  3318.374 secs...\n",
      "Filtering raw data in 1 contiguous segment\n",
      "Setting up band-pass filter from 25 - 80 Hz\n",
      "\n",
      "FIR filter parameters\n",
      "---------------------\n",
      "Designing a one-pass, zero-phase, non-causal bandpass filter:\n",
      "- Windowed time-domain design (firwin) method\n",
      "- Hamming window with 0.0194 passband ripple and 53 dB stopband attenuation\n",
      "- Lower passband edge: 25.00\n",
      "- Lower transition bandwidth: 6.25 Hz (-6 dB cutoff frequency: 21.88 Hz)\n",
      "- Upper passband edge: 80.00 Hz\n",
      "- Upper transition bandwidth: 20.00 Hz (-6 dB cutoff frequency: 90.00 Hz)\n",
      "- Filter length: 265 samples (0.530 s)\n",
      "\n"
     ]
    },
    {
     "name": "stderr",
     "output_type": "stream",
     "text": [
      "[Parallel(n_jobs=-1)]: Done  17 tasks      | elapsed:    0.9s\n",
      "[Parallel(n_jobs=-1)]: Done  17 tasks      | elapsed:    1.2s\n"
     ]
    },
    {
     "name": "stdout",
     "output_type": "stream",
     "text": [
      "Used Annotations descriptions: ['ITI']\n",
      "Not setting metadata\n",
      "50 matching events found\n",
      "No baseline correction applied\n",
      "0 projection items activated\n",
      "Using data from preloaded Raw for 50 events and 1251 original time points ...\n",
      "0 bad epochs dropped\n",
      "Adding metadata for subj MS019 to ITI epoch\n",
      "Dropped 12 epochs: 0, 4, 8, 9, 10, 11, 16, 18, 22, 26, 33, 44\n",
      "Adding metadata with 24 columns\n",
      "Overwriting existing file.\n",
      "Overwriting existing file.\n",
      "Opening raw data file /sc/arion/projects/OlfMem/jainp08/Social_Navigation/SEEG/preproc/MS019/LFP/ieeg_bp.fif...\n",
      "    Range : 0 ... 1659187 =      0.000 ...  3318.374 secs\n",
      "Ready.\n",
      "Reading 0 ... 1659187  =      0.000 ...  3318.374 secs...\n",
      "Filtering raw data in 1 contiguous segment\n",
      "Setting up band-pass filter from 25 - 80 Hz\n",
      "\n",
      "FIR filter parameters\n",
      "---------------------\n",
      "Designing a one-pass, zero-phase, non-causal bandpass filter:\n",
      "- Windowed time-domain design (firwin) method\n",
      "- Hamming window with 0.0194 passband ripple and 53 dB stopband attenuation\n",
      "- Lower passband edge: 25.00\n",
      "- Lower transition bandwidth: 6.25 Hz (-6 dB cutoff frequency: 21.88 Hz)\n",
      "- Upper passband edge: 80.00 Hz\n",
      "- Upper transition bandwidth: 20.00 Hz (-6 dB cutoff frequency: 90.00 Hz)\n",
      "- Filter length: 265 samples (0.530 s)\n",
      "\n"
     ]
    },
    {
     "name": "stderr",
     "output_type": "stream",
     "text": [
      "[Parallel(n_jobs=-1)]: Done  17 tasks      | elapsed:    1.0s\n",
      "[Parallel(n_jobs=-1)]: Done  17 tasks      | elapsed:    1.3s\n"
     ]
    },
    {
     "name": "stdout",
     "output_type": "stream",
     "text": [
      "Used Annotations descriptions: ['baseline']\n",
      "Not setting metadata\n",
      "63 matching events found\n",
      "No baseline correction applied\n",
      "0 projection items activated\n",
      "Using data from preloaded Raw for 63 events and 1251 original time points ...\n",
      "0 bad epochs dropped\n",
      "Overwriting existing file.\n",
      "Overwriting existing file.\n"
     ]
    }
   ],
   "source": [
    "for ix, subj_id in enumerate(subj_ids): \n",
    "    site = subj_sites[ix]\n",
    "    format = subj_formats[ix]\n",
    "    slope = record_df[record_df['subject'] == subj_id]['slope'].tolist()[0] # slope = slopes[subj_id][0]\n",
    "    offset = record_df[record_df['subject'] == subj_id]['offset'].tolist()[0] # offset = offsets[subj_id][0]\n",
    "    print(f'Working on subj {subj_id} with slope {slope} and offset {offset}')\n",
    "    \n",
    "    # Set paths\n",
    "    if format == 'nlx':\n",
    "        load_path = f'{base_dir}/data/{subj_id}/raw/neural/nlx/'\n",
    "        save_path = f'{base_dir}/preproc/{subj_id}/LFP/nlx/'\n",
    "    else:   \n",
    "        load_path = f'{base_dir}/data/{subj_id}/raw/neural/'\n",
    "        save_path = f'{base_dir}/preproc/{subj_id}/LFP/'\n",
    "    \n",
    "    behav_path = f'{base_dir}/preproc/{subj_id}/behav/'\n",
    "    elec_path = f'{base_dir}/data/{subj_id}/anat/'\n",
    "    \n",
    "    choice_file = glob(f'{behav_path}choice_df_all.csv')[0]\n",
    "    log_file = glob(f'{behav_path}time_df.csv')[0]\n",
    "    choice_df = pd.read_csv(choice_file)\n",
    "    time_df = pd.read_csv(log_file)\n",
    "    \n",
    "    buf = 1.0 # this is the buffer before and after that we use to limit edge effects for TFRs\n",
    "\n",
    "    IED_args = {'peak_thresh':5,\n",
    "           'closeness_thresh':0.25, \n",
    "           'width_thresh':0.2}\n",
    "\n",
    "    # Define epochs of interest according to timestamps from behavior df \n",
    "    epochs_list = ['options_slide', 'decision_time', 'narration_slide', 'ITI']\n",
    "    behav_times = {f'{x}': [] for x in epochs_list}\n",
    "    behav_times['baseline'] = time_df['decision_trial_start'].dropna().tolist()\n",
    "    behav_times['decision_time'] = time_df['choice_start'].dropna().tolist()\n",
    "    behav_times['ITI'] = time_df['choice_start'].dropna().tolist()\n",
    "    behav_times['narration_slide'] = time_df['space_press_time'].dropna().tolist()\n",
    "\n",
    "\n",
    "    # Create a dictionary with your event name (matching your dataframe), and the time-window for the event\n",
    "    evs = {'decision_time': [-1.5, 0], #ChoiceOnset\n",
    "           'narration_slide': [-1.5, 0], # narration slide\n",
    "           'ITI': [0, 0.5],  # ITI\n",
    "           'baseline': [-0.5, 0],  # baseline, few ms before options slide\n",
    "          }\n",
    "\n",
    "    buf = 1.0  # this is the buffer before and after that we use to limit edge effects for TFRs\n",
    "    epochs_all_evs = {f'{x}': np.nan for x in evs}\n",
    "    \n",
    "    for event in evs.keys():\n",
    "        pre = evs[event][0]\n",
    "        post = evs[event][1]\n",
    "        fixed_baseline = None\n",
    "\n",
    "        if event == 'narration_slide' and ((subj_id == 'MS048') or (subj_id == 'MS051')):\n",
    "            behav_times['narration_slide'] = time_df['non_decision_trial_start'].dropna() - 0.45\n",
    "\n",
    "        # THE following function will now SAVE out dataframes that indicate IED and artifact time points in your data\n",
    "        epochs = lfp_preprocess_utils.make_epochs(load_path=f'{save_path}ieeg_bp.fif', \n",
    "                                                  slope=slope, offset=offset, \n",
    "                                                  behav_name=event, behav_times=behav_times[event],\n",
    "                                                  ev_start_s=pre, ev_end_s=post, buf_s=buf,\n",
    "                                                  downsamp_factor=None, IED_args=IED_args, detrend=0)\n",
    "\n",
    "        epochs_all_evs[event] = epochs\n",
    "        \n",
    "        if event in ['decision_time', 'ITI']:\n",
    "            print(f'Adding metadata for subj {subj_id} to {event} epoch')\n",
    "            behav_params = ['decision_num', 'char_decision_num', 'scene_num', 'dimension',\n",
    "               'char_role_num', 'onset', 'button_press', 'decision', 'affil', 'power',\n",
    "               'reaction_time', 'char', 'decision_axis', 'x', 'y', 'r_current',\n",
    "               'r_new', 'angle_current', 'angle_new', 'decision_id', 'raw_angle',\n",
    "               'raw_angle_new', 'cosine_current', 'cosine_new']\n",
    "\n",
    "            event_metadata = pd.DataFrame(columns=behav_params)\n",
    "            choice_df_clean = choice_df[choice_df['button_press'] != 0]\n",
    "            \n",
    "            for param in behav_params:\n",
    "                if param in choice_df_clean.columns:\n",
    "                    event_metadata[param] = choice_df_clean[param].tolist()\n",
    "                else:\n",
    "                    print(f\"Warning: Parameter {param} not found in choice_df. Filling with NaNs.\")\n",
    "                    event_metadata[param] = np.nan\n",
    "\n",
    "            # validate metadata alignment\n",
    "            if len(event_metadata) != len(epochs.events):\n",
    "                warnings.warn(f\"Metadata length ({len(event_metadata)}) does not match \" +\n",
    "                              f\"number of epochs ({len(epochs.events)}) for {event}\", UserWarning)\n",
    "                selected_indices = [x+1 for x in epochs.selection]\n",
    "                decision_num = event_metadata['decision_num'].tolist()\n",
    "                final_selection = list(set(selected_indices) & set(decision_num))\n",
    "                event_metadata_extracted = event_metadata[event_metadata['decision_num'].isin(final_selection)].copy()\n",
    "                epochs_all_evs[event].drop(indices=[x-1 for x in selected_indices if x not in final_selection])\n",
    "                epochs_all_evs[event].metadata = event_metadata_extracted\n",
    "            else:            \n",
    "                epochs_all_evs[event].metadata = event_metadata\n",
    "            \n",
    "        epochs_all_evs[event].save(f'{save_path}/{event}-epo.fif', overwrite=True)\n",
    "        "
   ]
  },
  {
   "cell_type": "markdown",
   "id": "6e7661bf",
   "metadata": {
    "jp-MarkdownHeadingCollapsed": true
   },
   "source": [
    "## Plot and examine the epochs if you'd like:"
   ]
  },
  {
   "cell_type": "code",
   "execution_count": null,
   "id": "af96abae",
   "metadata": {},
   "outputs": [],
   "source": [
    "# %matplotlib notebook\n",
    "# fig = epochs_all_subjs_all_evs['MS007']['feedback_start'].plot(n_epochs=10, n_channels=10)"
   ]
  },
  {
   "cell_type": "code",
   "execution_count": null,
   "id": "6261e54d",
   "metadata": {},
   "outputs": [],
   "source": [
    "# # Need this following line to save the annotations to the epochs object \n",
    "# fig.fake_keypress('a')"
   ]
  }
 ],
 "metadata": {
  "kernelspec": {
   "display_name": "lfp",
   "language": "python",
   "name": "lfp"
  },
  "language_info": {
   "codemirror_mode": {
    "name": "ipython",
    "version": 3
   },
   "file_extension": ".py",
   "mimetype": "text/x-python",
   "name": "python",
   "nbconvert_exporter": "python",
   "pygments_lexer": "ipython3",
   "version": "3.10.8"
  }
 },
 "nbformat": 4,
 "nbformat_minor": 5
}
